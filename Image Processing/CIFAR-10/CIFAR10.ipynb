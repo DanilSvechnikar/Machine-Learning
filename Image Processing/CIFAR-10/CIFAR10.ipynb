{
 "cells": [
  {
   "cell_type": "code",
   "execution_count": null,
   "metadata": {
    "collapsed": true
   },
   "outputs": [],
   "source": [
    "import torch\n",
    "from torch import nn\n",
    "\n",
    "import random\n",
    "import numpy as np"
   ]
  },
  {
   "cell_type": "code",
   "execution_count": null,
   "outputs": [],
   "source": [
    "SEED = 0\n",
    "random.seed(SEED)\n",
    "np.random.seed(SEED)\n",
    "torch.manual_seed(SEED)\n",
    "torch.cuda.manual_seed(SEED)\n",
    "torch.backends.cudnn.deterministic = True"
   ],
   "metadata": {
    "collapsed": false
   }
  },
  {
   "cell_type": "code",
   "execution_count": null,
   "outputs": [],
   "source": [
    "import torchvision.datasets"
   ],
   "metadata": {
    "collapsed": false
   }
  },
  {
   "cell_type": "code",
   "execution_count": null,
   "outputs": [],
   "source": [
    "CIFAR_train = torchvision.datasets.CIFAR10('./', download=True, train=True)\n",
    "CIFAR_test = torchvision.datasets.CIFAR10('./', download=True, train=False)"
   ],
   "metadata": {
    "collapsed": false
   }
  },
  {
   "cell_type": "code",
   "execution_count": null,
   "outputs": [],
   "source": [
    "X_train = torch.FloatTensor(CIFAR_train.data)\n",
    "y_train = torch.LongTensor(CIFAR_train.targets)\n",
    "\n",
    "X_test = torch.FloatTensor(CIFAR_test.data)\n",
    "y_test = torch.LongTensor(CIFAR_test.targets)"
   ],
   "metadata": {
    "collapsed": false
   }
  },
  {
   "cell_type": "code",
   "execution_count": null,
   "outputs": [],
   "source": [
    "X_train /= 255.\n",
    "X_test /= 255."
   ],
   "metadata": {
    "collapsed": false
   }
  },
  {
   "cell_type": "code",
   "execution_count": null,
   "outputs": [],
   "source": [
    "CIFAR_train.classes"
   ],
   "metadata": {
    "collapsed": false
   }
  },
  {
   "cell_type": "code",
   "execution_count": null,
   "outputs": [],
   "source": [
    "import matplotlib.pyplot as plt"
   ],
   "metadata": {
    "collapsed": false
   }
  },
  {
   "cell_type": "code",
   "execution_count": null,
   "outputs": [],
   "source": [
    "# fig, ax = plt.subplots(2, 3)\n",
    "# k = 0\n",
    "#\n",
    "# for i in range(2):\n",
    "#     for j in range(3):\n",
    "#         ax[i][j].imshow(X_train[k], aspect='auto')\n",
    "#         k += 1"
   ],
   "metadata": {
    "collapsed": false
   }
  },
  {
   "cell_type": "code",
   "execution_count": null,
   "outputs": [],
   "source": [
    "X_train = X_train.permute(0, 3, 1, 2)\n",
    "X_test = X_test.permute(0, 3, 1, 2)"
   ],
   "metadata": {
    "collapsed": false
   }
  },
  {
   "cell_type": "code",
   "execution_count": null,
   "outputs": [],
   "source": [
    "class LeNet5(nn.Module):\n",
    "    def __init__(self,\n",
    "                 activation='tanh',\n",
    "                 pooling='avg',\n",
    "                 conv_size=5,\n",
    "                 use_batch_norm=False):\n",
    "        super(LeNet5, self).__init__()\n",
    "\n",
    "        self.conv_size = conv_size\n",
    "        self.use_batch_norm = use_batch_norm\n",
    "\n",
    "        if activation == 'tanh':\n",
    "            activation_function = nn.Tanh()\n",
    "        elif activation == 'relu':\n",
    "            activation_function = nn.ReLU()\n",
    "        else:\n",
    "            raise NotImplementedError\n",
    "\n",
    "        if pooling == 'avg':\n",
    "            pooling_layer = nn.AvgPool2d(kernel_size=2, stride=2)\n",
    "        elif pooling == 'max':\n",
    "            pooling_layer = nn.MaxPool2d(kernel_size=2, stride=2)\n",
    "        else:\n",
    "            raise NotImplementedError\n",
    "\n",
    "        if conv_size == 5:\n",
    "            self.conv1 = nn.Conv2d(in_channels=3, out_channels=6, kernel_size=5, padding=0)\n",
    "        elif conv_size == 3:\n",
    "            self.conv1_1 = nn.Conv2d(in_channels=3, out_channels=6, kernel_size=3, padding=0)\n",
    "            self.conv1_2 = nn.Conv2d(in_channels=6, out_channels=6, kernel_size=3, padding=0)\n",
    "        else:\n",
    "            raise NotImplementedError\n",
    "\n",
    "        self.act1 = activation_function\n",
    "        self.bn1 = nn.BatchNorm2d(num_features=6)\n",
    "        self.pool1 = pooling_layer\n",
    "\n",
    "        if conv_size == 5:\n",
    "            self.conv2 = nn.Conv2d(in_channels=6, out_channels=16, kernel_size=5, padding=0)\n",
    "        elif conv_size == 3:\n",
    "            self.conv2_1 = nn.Conv2d(in_channels=6, out_channels=16, kernel_size=3, padding=0)\n",
    "            self.conv2_2 = nn.Conv2d(in_channels=16, out_channels=16, kernel_size=3, padding=0)\n",
    "        else:\n",
    "            raise NotImplementedError\n",
    "\n",
    "        self.act2 = activation_function\n",
    "        self.bn2 = nn.BatchNorm2d(num_features=16)\n",
    "        self.pool2 = pooling_layer\n",
    "        self.fl1 = nn.Flatten()\n",
    "        self.fc1 = nn.Linear(5 * 5 * 16, 120)\n",
    "        self.act3 = activation_function\n",
    "\n",
    "        self.fc2 = nn.Linear(120, 84)\n",
    "        self.act4 = activation_function\n",
    "\n",
    "        self.fc3 = nn.Linear(84, 10)\n",
    "\n",
    "    def forward(self, x):\n",
    "        if self.conv_size == 5:\n",
    "            x = self.conv1(x)\n",
    "        elif self.conv_size == 3:\n",
    "            x = self.conv1_1(x)\n",
    "            x = self.conv1_2(x)\n",
    "\n",
    "        x = self.act1(x)\n",
    "        if self.use_batch_norm:\n",
    "            x = self.bn1(x)\n",
    "        x = self.pool1(x)\n",
    "\n",
    "        if self.conv_size == 5:\n",
    "            x = self.conv2(x)\n",
    "        elif self.conv_size == 3:\n",
    "            x = self.conv2_1(x)\n",
    "            x = self.conv2_2(x)\n",
    "\n",
    "        x = self.act2(x)\n",
    "        if self.use_batch_norm:\n",
    "            x = self.bn2(x)\n",
    "        x = self.pool2(x)\n",
    "\n",
    "        x = self.fl1(x)\n",
    "\n",
    "        x = self.fc1(x)\n",
    "        x = self.act3(x)\n",
    "\n",
    "        x = self.fc2(x)\n",
    "        x = self.act4(x)\n",
    "\n",
    "        x = self.fc3(x)\n",
    "\n",
    "        return x"
   ],
   "metadata": {
    "collapsed": false
   }
  },
  {
   "cell_type": "code",
   "execution_count": null,
   "outputs": [],
   "source": [
    "def train(net, X_train, y_train, X_test, y_test):\n",
    "    device = torch.device('cuda:0' if torch.cuda.is_available() else 'cpu')\n",
    "    net = net.to(device)\n",
    "    loss = nn.CrossEntropyLoss()\n",
    "    optimizer = torch.optim.Adam(net.parameters(), lr=1.0e-3)\n",
    "\n",
    "    num_epoch = 10\n",
    "    batch_size = 512\n",
    "\n",
    "    test_accuracy_history = list()\n",
    "    test_loss_history = list()\n",
    "\n",
    "    X_test = X_test.to(device)\n",
    "    y_test = y_test.to(device)\n",
    "\n",
    "    for epoch in range(num_epoch):\n",
    "        order = np.random.permutation(len(X_train))\n",
    "        for start_index in range(0, len(X_train), batch_size):\n",
    "            optimizer.zero_grad()\n",
    "            net.train()\n",
    "\n",
    "            batch_indexes = order[start_index:start_index+batch_size]\n",
    "\n",
    "            X_batch = X_train[batch_indexes].to(device)\n",
    "            y_batch = y_train[batch_indexes].to(device)\n",
    "\n",
    "            preds = net.forward(X_batch)\n",
    "\n",
    "            loss_value = loss(preds, y_batch)\n",
    "            loss_value.backward()\n",
    "\n",
    "            optimizer.step()\n",
    "\n",
    "        net.eval()\n",
    "        with torch.no_grad():\n",
    "            test_preds = net.forward(X_test)\n",
    "            test_loss_history.append(loss(test_preds, y_test).item())\n",
    "\n",
    "            accuracy = (test_preds.argmax(dim=1) == y_test).float().mean().item()\n",
    "            test_accuracy_history.append(accuracy)\n",
    "\n",
    "        print(f'Epoch {epoch+1}/{num_epoch}, Loss(test): {test_loss_history[epoch]:.4f}, Accuracy(test): {accuracy:.4f}')\n",
    "\n",
    "    del net\n",
    "    return test_accuracy_history, test_loss_history"
   ],
   "metadata": {
    "collapsed": false
   }
  },
  {
   "cell_type": "code",
   "execution_count": null,
   "outputs": [],
   "source": [
    "accuracies = dict()\n",
    "losses = dict()"
   ],
   "metadata": {
    "collapsed": false
   }
  },
  {
   "cell_type": "code",
   "execution_count": null,
   "outputs": [],
   "source": [
    "# accuracies['tanh'], losses['tanh'] = train(LeNet5(activation='tanh', conv_size=5),\n",
    "#                                            X_train, y_train, X_test, y_test)\n",
    "# accuracies['relu'], losses['relu'] = train(LeNet5(activation='relu', conv_size=5),\n",
    "#                                            X_train, y_train, X_test, y_test)\n",
    "# accuracies['relu_3'], losses['relu_3'] = train(LeNet5(activation='relu', conv_size=3),\n",
    "#                                                X_train, y_train, X_test, y_test)\n",
    "# accuracies['relu_3_max_pool'], losses['relu_3_max_pool'] = train(LeNet5(activation='relu', conv_size=3, pooling='max'),\n",
    "#                                                                  X_train, y_train, X_test, y_test)\n",
    "# accuracies['relu_3_max_pool_bn'], losses['relu_3_max_pool_bn'] = train(LeNet5(activation='relu', conv_size=3, pooling='max', use_batch_norm=True),\n",
    "#                                                                        X_train, y_train, X_test, y_test)"
   ],
   "metadata": {
    "collapsed": false
   }
  },
  {
   "cell_type": "code",
   "execution_count": null,
   "outputs": [],
   "source": [
    "# for experiment_id in accuracies.keys():\n",
    "#     plt.plot(accuracies[experiment_id], label=experiment_id)\n",
    "# plt.legend()\n",
    "# plt.title('Validation Accuracy');"
   ],
   "metadata": {
    "collapsed": false
   }
  },
  {
   "cell_type": "code",
   "execution_count": null,
   "outputs": [],
   "source": [
    "# for experiment_id in losses.keys():\n",
    "#     plt.plot(losses[experiment_id], label=experiment_id)\n",
    "# plt.legend()\n",
    "# plt.title('Validation Loss');"
   ],
   "metadata": {
    "collapsed": false
   }
  },
  {
   "cell_type": "code",
   "execution_count": null,
   "outputs": [],
   "source": [
    "class CIFARNet(nn.Module):\n",
    "    def __init__(self):\n",
    "        super(CIFARNet, self).__init__()\n",
    "\n",
    "        self.batch_norm0 = nn.BatchNorm2d(3)\n",
    "\n",
    "        self.conv_block1 = nn.Sequential(\n",
    "            nn.Conv2d(3, 16, kernel_size=3, stride=1, padding=1),\n",
    "            nn.ReLU(),\n",
    "            nn.BatchNorm2d(16),\n",
    "            nn.MaxPool2d(2, 2),\n",
    "        )\n",
    "\n",
    "        self.conv_block2 = nn.Sequential(\n",
    "            nn.Conv2d(16, 32, 3, padding=1),\n",
    "            nn.ReLU(),\n",
    "            nn.BatchNorm2d(32),\n",
    "            nn.MaxPool2d(2, 2),\n",
    "        )\n",
    "\n",
    "        self.conv_block3 = nn.Sequential(\n",
    "            nn.Conv2d(32, 64, 3, padding=1),\n",
    "            nn.ReLU(),\n",
    "            nn.BatchNorm2d(64),\n",
    "        )\n",
    "\n",
    "        self.linear_block1 = nn.Sequential(\n",
    "            nn.Linear(8 * 8 * 64, 256),\n",
    "            nn.Tanh(),\n",
    "            nn.BatchNorm1d(256),\n",
    "        )\n",
    "\n",
    "        self.linear_block2 = nn.Sequential(\n",
    "            nn.Linear(256, 64),\n",
    "            nn.Tanh(),\n",
    "            nn.BatchNorm1d(64),\n",
    "        )\n",
    "\n",
    "        self.fc3 = nn.Linear(64, 10)\n",
    "\n",
    "    def forward(self, x):\n",
    "        x = self.batch_norm0(x)\n",
    "\n",
    "        x = self.conv_block1(x)\n",
    "        x = self.conv_block2(x)\n",
    "        x = self.conv_block3(x)\n",
    "\n",
    "        x = x.view(x.size(0), x.size(1) * x.size(2) * x.size(3))\n",
    "\n",
    "        x = self.linear_block1(x)\n",
    "        x = self.linear_block2(x)\n",
    "        x = self.fc3(x)\n",
    "\n",
    "        return x"
   ],
   "metadata": {
    "collapsed": false
   }
  },
  {
   "cell_type": "code",
   "execution_count": null,
   "outputs": [],
   "source": [
    "# accuracies['cifar_net'], losses['cifar_net'] = train(CIFARNet(),\n",
    "#                                                      X_train, y_train, X_test, y_test)"
   ],
   "metadata": {
    "collapsed": false
   }
  },
  {
   "cell_type": "code",
   "execution_count": null,
   "outputs": [],
   "source": [
    "for experiment_id in accuracies.keys():\n",
    "    plt.plot(accuracies[experiment_id], label=experiment_id)\n",
    "plt.legend()\n",
    "plt.title('Validation Accuracy');"
   ],
   "metadata": {
    "collapsed": false
   }
  },
  {
   "cell_type": "code",
   "execution_count": null,
   "outputs": [],
   "source": [
    "for experiment_id in losses.keys():\n",
    "    plt.plot(losses[experiment_id], label=experiment_id)\n",
    "plt.legend()\n",
    "plt.title('Validation Loss');"
   ],
   "metadata": {
    "collapsed": false
   }
  }
 ],
 "metadata": {
  "kernelspec": {
   "display_name": "Python 3",
   "language": "python",
   "name": "python3"
  },
  "language_info": {
   "codemirror_mode": {
    "name": "ipython",
    "version": 2
   },
   "file_extension": ".py",
   "mimetype": "text/x-python",
   "name": "python",
   "nbconvert_exporter": "python",
   "pygments_lexer": "ipython2",
   "version": "2.7.6"
  }
 },
 "nbformat": 4,
 "nbformat_minor": 0
}
