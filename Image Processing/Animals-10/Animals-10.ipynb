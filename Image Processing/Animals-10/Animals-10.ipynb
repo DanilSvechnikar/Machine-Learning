{
 "cells": [
  {
   "cell_type": "code",
   "execution_count": null,
   "metadata": {
    "collapsed": true
   },
   "outputs": [],
   "source": [
    "import torch.nn as nn\n",
    "import torch.utils.data\n",
    "import torchvision as tv\n",
    "import torch.backends.cudnn\n",
    "\n",
    "import numpy as np\n",
    "import random\n",
    "\n",
    "import matplotlib.pyplot as plt\n",
    "import seaborn as sns\n",
    "\n",
    "import os\n",
    "from tqdm import tqdm"
   ]
  },
  {
   "cell_type": "code",
   "execution_count": null,
   "outputs": [],
   "source": [
    "SEED = 0\n",
    "random.seed(SEED)\n",
    "np.random.seed(SEED)\n",
    "torch.manual_seed(SEED)\n",
    "torch.cuda.manual_seed(SEED)\n",
    "torch.backends.cudnn.deterministic = True"
   ],
   "metadata": {
    "collapsed": false
   }
  },
  {
   "cell_type": "code",
   "execution_count": null,
   "outputs": [],
   "source": [
    "torch.backends.cudnn.benchmark = True"
   ],
   "metadata": {
    "collapsed": false
   }
  },
  {
   "cell_type": "code",
   "execution_count": null,
   "outputs": [],
   "source": [
    "transforms = tv.transforms.Compose([\n",
    "    tv.transforms.Resize((224, 224)),\n",
    "    tv.transforms.ToTensor(),\n",
    "    tv.transforms.Normalize(mean=[0.485, 0.456, 0.406], std=[0.229, 0.224, 0.225])\n",
    "])\n",
    "\n",
    "dataset_path = './Data/animals-10_splited/'\n",
    "\n",
    "train_dir = 'train'\n",
    "val_dir = 'val'\n",
    "test_fir = 'test'"
   ],
   "metadata": {
    "collapsed": false
   }
  },
  {
   "cell_type": "code",
   "execution_count": null,
   "outputs": [],
   "source": [
    "# import splitfolders\n",
    "\n",
    "\n",
    "# splitfolders.ratio(\n",
    "#     dataset_path,\n",
    "#     'splited_animals',\n",
    "#     ratio=(0.65, 0.2, 0.15),\n",
    "#     seed=SEED,\n",
    "#     group_prefix=None\n",
    "# )"
   ],
   "metadata": {
    "collapsed": false
   }
  },
  {
   "cell_type": "code",
   "execution_count": null,
   "outputs": [],
   "source": [
    "train_dataset = tv.datasets.ImageFolder(\n",
    "    root=dataset_path + train_dir,\n",
    "    transform=transforms\n",
    ")\n",
    "\n",
    "val_dataset = tv.datasets.ImageFolder(\n",
    "    root=dataset_path + val_dir,\n",
    "    transform=transforms\n",
    ")\n",
    "\n",
    "test_dataset = tv.datasets.ImageFolder(\n",
    "    root=dataset_path + test_fir,\n",
    "    transform=transforms\n",
    ")"
   ],
   "metadata": {
    "collapsed": false
   }
  },
  {
   "cell_type": "code",
   "execution_count": null,
   "outputs": [],
   "source": [
    "len(train_dataset), len(val_dataset), len(test_dataset)"
   ],
   "metadata": {
    "collapsed": false
   }
  },
  {
   "cell_type": "code",
   "execution_count": null,
   "outputs": [],
   "source": [
    "# reduction_ratio = 5\n",
    "#\n",
    "# train_dataset = torch.utils.data.Subset(\n",
    "#     train_dataset,\n",
    "#     np.random.choice(\n",
    "#         len(train_dataset),\n",
    "#         int(len(train_dataset) / reduction_ratio),\n",
    "#         replace=False\n",
    "#     ),\n",
    "# )\n",
    "#\n",
    "# val_dataset = torch.utils.data.Subset(\n",
    "#     val_dataset,\n",
    "#     np.random.choice(\n",
    "#         len(val_dataset),\n",
    "#         int(len(train_dataset) / reduction_ratio),\n",
    "#         replace=False\n",
    "#     )\n",
    "# )"
   ],
   "metadata": {
    "collapsed": false
   }
  },
  {
   "cell_type": "code",
   "execution_count": null,
   "outputs": [],
   "source": [
    "# len(train_dataset), len(val_dataset)"
   ],
   "metadata": {
    "collapsed": false
   }
  },
  {
   "cell_type": "code",
   "execution_count": null,
   "outputs": [],
   "source": [
    "num_classes = dict()\n",
    "for classes in os.listdir(dataset_path + train_dir):\n",
    "    num_classes[classes] = len(os.listdir(dataset_path + train_dir + '/' + classes))\n",
    "\n",
    "for classes in os.listdir(dataset_path + val_dir):\n",
    "    num_classes[classes] += len(os.listdir(dataset_path + val_dir + '/' + classes))\n",
    "\n",
    "for classes in os.listdir(dataset_path + test_fir):\n",
    "    num_classes[classes] += len(os.listdir(dataset_path + test_fir + '/' + classes))\n",
    "\n",
    "num_classes = dict(sorted(num_classes.items(), key=lambda item: item[1], reverse=True))"
   ],
   "metadata": {
    "collapsed": false
   }
  },
  {
   "cell_type": "code",
   "execution_count": null,
   "outputs": [],
   "source": [
    "def add_value_label(x_list, y_list):\n",
    "    for i in range(1, len(x_list) + 1):\n",
    "        plt.text(\n",
    "            i-1,\n",
    "            y_list[i-1] / 2,\n",
    "            y_list[i-1],\n",
    "            ha='center',\n",
    "            fontweight='bold',\n",
    "            fontsize=9,\n",
    "            color='white'\n",
    "        )"
   ],
   "metadata": {
    "collapsed": false
   }
  },
  {
   "cell_type": "code",
   "execution_count": null,
   "outputs": [],
   "source": [
    "plt.figure(figsize=(8, 3))\n",
    "\n",
    "plt.bar(\n",
    "    num_classes.keys(),\n",
    "    num_classes.values(),\n",
    "    color=sns.color_palette('magma', 10),\n",
    "    width=0.6\n",
    ")\n",
    "\n",
    "plt.title('Class distribution')\n",
    "\n",
    "add_value_label(list(num_classes.keys()), list(num_classes.values()))"
   ],
   "metadata": {
    "collapsed": false
   }
  },
  {
   "cell_type": "code",
   "execution_count": null,
   "outputs": [],
   "source": [
    "plt.figure(figsize=(6, 6))\n",
    "\n",
    "plt.pie(\n",
    "    num_classes.values(),\n",
    "    startangle=90,\n",
    "    labels=num_classes.keys(),\n",
    "    autopct='%1.1f%%',\n",
    "    colors=sns.color_palette('bright', 10)\n",
    ")\n",
    "\n",
    "plt.legend(bbox_to_anchor=(0, 1), shadow=True);"
   ],
   "metadata": {
    "collapsed": false
   }
  },
  {
   "cell_type": "code",
   "execution_count": null,
   "outputs": [],
   "source": [
    "batch_size = 32\n",
    "\n",
    "train_loader = torch.utils.data.DataLoader(\n",
    "    dataset=train_dataset,\n",
    "    batch_size=batch_size,\n",
    "    shuffle=True,\n",
    ")\n",
    "\n",
    "val_loader = torch.utils.data.DataLoader(\n",
    "    dataset=val_dataset,\n",
    "    batch_size=batch_size,\n",
    "    shuffle=False,\n",
    ")\n",
    "\n",
    "test_loader = torch.utils.data.DataLoader(\n",
    "    dataset=test_dataset,\n",
    "    batch_size=batch_size,\n",
    "    shuffle=False,\n",
    ")"
   ],
   "metadata": {
    "collapsed": false
   }
  },
  {
   "cell_type": "code",
   "execution_count": null,
   "outputs": [],
   "source": [
    "len(train_loader), len(val_loader), len(test_loader)"
   ],
   "metadata": {
    "collapsed": false
   }
  },
  {
   "cell_type": "code",
   "execution_count": null,
   "outputs": [],
   "source": [
    "def count_parameters(model):\n",
    "    return sum(p.numel() for p in model.parameters() if p.requires_grad)"
   ],
   "metadata": {
    "collapsed": false
   }
  },
  {
   "cell_type": "code",
   "execution_count": null,
   "outputs": [],
   "source": [
    "def train_model(model, loss, optimizer, scheduler, num_epochs):\n",
    "    for epoch in range(num_epochs):\n",
    "        for phase in ['train', 'val']:\n",
    "            if phase == 'train':\n",
    "                dataloader = train_loader\n",
    "                model.train()\n",
    "            else:\n",
    "                dataloader = val_loader\n",
    "                model.eval()\n",
    "\n",
    "            running_loss = 0.\n",
    "            running_acc = 0.\n",
    "\n",
    "            for inputs, labels in tqdm(dataloader):\n",
    "                inputs = inputs.to(device)\n",
    "                labels = labels.to(device)\n",
    "\n",
    "                optimizer.zero_grad()\n",
    "                with torch.set_grad_enabled(phase == 'train'):\n",
    "                    preds = model(inputs)\n",
    "                    loss_value = loss(preds, labels)\n",
    "\n",
    "                    if phase == 'train':\n",
    "                        loss_value.backward()\n",
    "                        optimizer.step()\n",
    "                    else:\n",
    "                        preds_class = preds.argmax(dim=1)\n",
    "\n",
    "                        running_loss += loss_value.item()\n",
    "\n",
    "                        are_equal = (preds_class.data == labels.data)\n",
    "                        are_equal = are_equal.float().mean()\n",
    "                        running_acc += are_equal\n",
    "\n",
    "        epoch_loss = running_loss / len(dataloader)\n",
    "        epoch_acc = running_acc / len(dataloader)\n",
    "\n",
    "        print(f'Epoch {epoch+1}/{num_epochs}; '\n",
    "              f'Loss: {epoch_loss:.4f}; '\n",
    "              f'Accuracy: {epoch_acc:.4f};', flush=True)\n",
    "\n",
    "        scheduler.step()"
   ],
   "metadata": {
    "collapsed": false
   }
  },
  {
   "cell_type": "code",
   "execution_count": null,
   "outputs": [],
   "source": [
    "def evaluate_model(model, loss):\n",
    "    model.eval()\n",
    "\n",
    "    running_loss = 0.\n",
    "    running_acc = 0.\n",
    "\n",
    "    for inputs, labels in tqdm(test_loader):\n",
    "        inputs = inputs.to(device)\n",
    "        labels = labels.to(device)\n",
    "\n",
    "        with torch.set_grad_enabled(False):\n",
    "            preds = model(inputs)\n",
    "            loss_value = loss(preds, labels)\n",
    "\n",
    "        preds_class = preds.argmax(dim=1)\n",
    "\n",
    "        running_loss += loss_value.item()\n",
    "\n",
    "        are_equal = (preds_class.data == labels.data)\n",
    "        are_equal = are_equal.float().mean()\n",
    "        running_acc += are_equal\n",
    "\n",
    "    epoch_loss = running_loss / len(test_loader)\n",
    "    epoch_acc = running_acc / len(test_loader)\n",
    "\n",
    "    print(f'Loss: {epoch_loss:.4f}; '\n",
    "          f'Accuracy: {epoch_acc:.4f};', flush=True)"
   ],
   "metadata": {
    "collapsed": false
   }
  },
  {
   "cell_type": "code",
   "execution_count": null,
   "outputs": [],
   "source": [
    "class VGG19Animals10(nn.Module):\n",
    "    def __init__(self, teach_from_begin=False, linear_neurons=100):\n",
    "        super(VGG19Animals10, self).__init__()\n",
    "\n",
    "        self.model = tv.models.vgg19(weights='IMAGENET1K_V1')\n",
    "\n",
    "        if teach_from_begin is False:\n",
    "            for param in self.model.parameters():\n",
    "                param.requires_grad = False\n",
    "\n",
    "        classifier = nn.Sequential(\n",
    "            nn.Linear(25088, linear_neurons),\n",
    "            nn.LeakyReLU(),\n",
    "            nn.Linear(linear_neurons, 10)\n",
    "        )\n",
    "        self.model.classifier = classifier\n",
    "\n",
    "    def forward(self, x):\n",
    "        return self.model(x)"
   ],
   "metadata": {
    "collapsed": false
   }
  },
  {
   "cell_type": "code",
   "execution_count": null,
   "outputs": [],
   "source": [
    "model = VGG19Animals10(teach_from_begin=False, linear_neurons=100)\n",
    "\n",
    "device = torch.device('cuda:0' if torch.cuda.is_available() else 'cpu')\n",
    "\n",
    "loss = nn.CrossEntropyLoss()\n",
    "optimizer = torch.optim.Adam(model.parameters(), lr=1.0e-3)\n",
    "scheduler = torch.optim.lr_scheduler.StepLR(optimizer, step_size=1, verbose=True)\n",
    "\n",
    "model = model.to(device)\n",
    "loss = loss.to(device)"
   ],
   "metadata": {
    "collapsed": false
   }
  },
  {
   "cell_type": "code",
   "execution_count": null,
   "outputs": [],
   "source": [
    "count_parameters(model)"
   ],
   "metadata": {
    "collapsed": false
   }
  },
  {
   "cell_type": "code",
   "execution_count": null,
   "outputs": [],
   "source": [
    "# train_model(model, loss, optimizer, scheduler, num_epochs=3)"
   ],
   "metadata": {
    "collapsed": false
   }
  },
  {
   "cell_type": "code",
   "execution_count": null,
   "outputs": [],
   "source": [
    "path_model = './Pretrained/VGG19_Animals-10.pth'"
   ],
   "metadata": {
    "collapsed": false
   }
  },
  {
   "cell_type": "code",
   "execution_count": null,
   "outputs": [],
   "source": [
    "# torch.save(model.state_dict(), path_model)"
   ],
   "metadata": {
    "collapsed": false
   }
  },
  {
   "cell_type": "code",
   "execution_count": null,
   "outputs": [],
   "source": [
    "model.load_state_dict(torch.load(path_model))"
   ],
   "metadata": {
    "collapsed": false
   }
  },
  {
   "cell_type": "code",
   "execution_count": null,
   "outputs": [],
   "source": [
    "# evaluate_model(model, loss)"
   ],
   "metadata": {
    "collapsed": false
   }
  }
 ],
 "metadata": {
  "kernelspec": {
   "display_name": "Python 3",
   "language": "python",
   "name": "python3"
  },
  "language_info": {
   "codemirror_mode": {
    "name": "ipython",
    "version": 2
   },
   "file_extension": ".py",
   "mimetype": "text/x-python",
   "name": "python",
   "nbconvert_exporter": "python",
   "pygments_lexer": "ipython2",
   "version": "2.7.6"
  }
 },
 "nbformat": 4,
 "nbformat_minor": 0
}
