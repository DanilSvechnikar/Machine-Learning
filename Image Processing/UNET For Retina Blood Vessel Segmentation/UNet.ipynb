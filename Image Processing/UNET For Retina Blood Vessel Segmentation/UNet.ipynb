{
 "cells": [
  {
   "cell_type": "markdown",
   "source": [
    "# UNet For Retina Blood Vessel Segmentation"
   ],
   "metadata": {
    "collapsed": false
   },
   "id": "4d80934ac33f8306"
  },
  {
   "cell_type": "code",
   "execution_count": null,
   "outputs": [],
   "source": [
    "%load_ext autoreload\n",
    "%autoreload 2\n",
    "\n",
    "import numpy as np\n",
    "\n",
    "import os\n",
    "from glob import glob\n",
    "\n",
    "import gc\n",
    "import yaml\n",
    "from tqdm import tqdm\n",
    "\n",
    "import matplotlib.pyplot as plt\n",
    "from IPython.display import clear_output\n",
    "\n",
    "import cv2\n",
    "\n",
    "import torch\n",
    "from torch.utils.data import DataLoader\n",
    "\n",
    "from utils import init_random_seed, \\\n",
    "    get_params_number, train_eval_loop, \\\n",
    "    calculate_metrics, mask_parse, predict_with_model\n",
    "from model import UNet\n",
    "from data import RetinaDataset, augment_data\n",
    "from loss import DiceLoss, DiceBCELoss"
   ],
   "metadata": {
    "collapsed": false
   },
   "id": "de100b3f89328684"
  },
  {
   "cell_type": "code",
   "execution_count": null,
   "outputs": [],
   "source": [
    "option_path = 'config.yml'\n",
    "with open(option_path, 'r') as file_option:\n",
    "    option = yaml.safe_load(file_option)"
   ],
   "metadata": {
    "collapsed": false
   },
   "id": "27807d944dd5dea7"
  },
  {
   "cell_type": "code",
   "execution_count": null,
   "outputs": [],
   "source": [
    "seed = option['seed']\n",
    "init_random_seed(seed)"
   ],
   "metadata": {
    "collapsed": false
   },
   "id": "dd941414c20bf4d7"
  },
  {
   "cell_type": "code",
   "execution_count": null,
   "outputs": [],
   "source": [
    "path_dataset = option['dataset']['path']\n",
    "path_new_dataset = path_dataset + '/Augmented Data'"
   ],
   "metadata": {
    "collapsed": false
   },
   "id": "55171d9e17aa80af"
  },
  {
   "cell_type": "code",
   "execution_count": null,
   "outputs": [],
   "source": [
    "# X_train = sorted(glob(os.path.join(path_dataset, 'train', 'images', '*.tif')))\n",
    "# y_train = sorted(glob(os.path.join(path_dataset, 'train', 'targets', '*.gif')))\n",
    "# \n",
    "# X_test = sorted(glob(os.path.join(path_dataset, 'test', 'images', '*.tif')))\n",
    "# y_test = sorted(glob(os.path.join(path_dataset, 'test', 'targets', '*.gif')))"
   ],
   "metadata": {
    "collapsed": false
   },
   "id": "571b83cd50ca1674"
  },
  {
   "cell_type": "code",
   "execution_count": null,
   "outputs": [],
   "source": [
    "size = option['dataset']['size_image']\n",
    "size = (size, size)\n",
    "\n",
    "# augment_data(X_train, y_train, path_new_dataset+'/train', size, augment=True)\n",
    "# augment_data(X_test, y_test, path_new_dataset+'/test', size, augment=False)"
   ],
   "metadata": {
    "collapsed": false
   },
   "id": "3cc433556e7d054d"
  },
  {
   "cell_type": "code",
   "execution_count": null,
   "outputs": [],
   "source": [
    "X_train = sorted(glob(os.path.join(path_new_dataset, 'train', 'image', '*')))\n",
    "y_train = sorted(glob(os.path.join(path_new_dataset, 'train', 'mask', '*')))\n",
    "\n",
    "X_test = sorted(glob(os.path.join(path_new_dataset, 'test', 'image', '*')))\n",
    "y_test = sorted(glob(os.path.join(path_new_dataset, 'test', 'mask', '*')))"
   ],
   "metadata": {
    "collapsed": false
   },
   "id": "4a9267cbdd4480c0"
  },
  {
   "cell_type": "code",
   "execution_count": null,
   "outputs": [],
   "source": [
    "train_dataset = RetinaDataset(X_train, y_train)\n",
    "test_dataset = RetinaDataset(X_test, y_test)"
   ],
   "metadata": {
    "collapsed": false
   },
   "id": "1f6bb9d8b2aecb77"
  },
  {
   "cell_type": "code",
   "execution_count": null,
   "outputs": [],
   "source": [
    "len(train_dataset), len(test_dataset)"
   ],
   "metadata": {
    "collapsed": false
   },
   "id": "9ca1c08cb94dff44"
  },
  {
   "cell_type": "code",
   "execution_count": null,
   "outputs": [],
   "source": [
    "batch_size = option['network']['batch_size']\n",
    "num_epochs = option['network']['num_epochs']\n",
    "lr = float(option['network']['lr'])\n",
    "device = option['network']['device']\n",
    "scheduler_patience = option['network']['scheduler_patience']\n",
    "early_stopping_patience = option['network']['early_stopping_patience']\n",
    "save_path_model = option['network']['save_path_model']\n",
    "num_workers_dataloader = option['dataset']['num_workers_dataloader']\n",
    "loss_fn = option['network']['loss']"
   ],
   "metadata": {
    "collapsed": false
   },
   "id": "81df3d37ab3813a"
  },
  {
   "cell_type": "code",
   "execution_count": null,
   "outputs": [],
   "source": [
    "device = device if torch.cuda.is_available() else 'cpu'"
   ],
   "metadata": {
    "collapsed": false
   },
   "id": "2dd854c6ba498e93"
  },
  {
   "cell_type": "code",
   "execution_count": null,
   "outputs": [],
   "source": [
    "train_dataloader = DataLoader(\n",
    "    dataset=train_dataset,\n",
    "    batch_size=batch_size,\n",
    "    shuffle=True,\n",
    "    num_workers=num_workers_dataloader\n",
    ")\n",
    "\n",
    "test_dataloader = DataLoader(\n",
    "    dataset=test_dataset,\n",
    "    batch_size=batch_size,\n",
    "    shuffle=False,\n",
    "    num_workers=num_workers_dataloader\n",
    ")"
   ],
   "metadata": {
    "collapsed": false
   },
   "id": "90753e50101715cd"
  },
  {
   "cell_type": "code",
   "execution_count": null,
   "outputs": [],
   "source": [
    "model = UNet()\n",
    "model = model.to(device)\n",
    "\n",
    "optimizer = torch.optim.Adam(model.parameters(), lr=lr)\n",
    "scheduler = torch.optim.lr_scheduler.ReduceLROnPlateau(optimizer,\n",
    "                                                       patience=scheduler_patience,\n",
    "                                                       verbose=True)\n",
    "\n",
    "if loss_fn == 'DiceLoss':\n",
    "    loss_fn = DiceLoss()\n",
    "else:\n",
    "    loss_fn = DiceBCELoss()"
   ],
   "metadata": {
    "collapsed": false
   },
   "id": "55c7bdc8a1156f4b"
  },
  {
   "cell_type": "code",
   "execution_count": null,
   "outputs": [],
   "source": [
    "get_params_number(model)"
   ],
   "metadata": {
    "collapsed": false
   },
   "id": "dc0ff7742f085355"
  },
  {
   "cell_type": "code",
   "execution_count": null,
   "outputs": [],
   "source": [
    "print(\"Number of unreachable objects collected by GC:\", gc.collect())\n",
    "torch.cuda.empty_cache()"
   ],
   "metadata": {
    "collapsed": false
   },
   "id": "ed66bbe2553bc75f"
  },
  {
   "cell_type": "code",
   "execution_count": null,
   "outputs": [],
   "source": [
    "# best_model, loss_train, loss_test = train_eval_loop(model,\n",
    "#                                                     train_dataloader, test_dataloader,\n",
    "#                                                     optimizer, loss_fn,\n",
    "#                                                     num_epochs, device,\n",
    "#                                                     early_stopping_patience,\n",
    "#                                                     scheduler)"
   ],
   "metadata": {
    "collapsed": false
   },
   "id": "4b3a12f54e4be58f"
  },
  {
   "cell_type": "code",
   "execution_count": null,
   "outputs": [],
   "source": [
    "# clear_output(True)\n",
    "# plt.plot(loss_train, label='Train loss')\n",
    "# plt.plot(loss_test, label='Test loss')\n",
    "# plt.legend(loc='upper right')\n",
    "# plt.show()"
   ],
   "metadata": {
    "collapsed": false
   },
   "id": "3b1f8d4dfc832c04"
  },
  {
   "cell_type": "code",
   "execution_count": null,
   "outputs": [],
   "source": [
    "# torch.save(best_model.state_dict(), save_path_model)"
   ],
   "metadata": {
    "collapsed": false
   },
   "id": "b491231b65e55726"
  },
  {
   "cell_type": "code",
   "execution_count": null,
   "outputs": [],
   "source": [
    "model.load_state_dict(torch.load(save_path_model, map_location=device))"
   ],
   "metadata": {
    "collapsed": false
   },
   "id": "809b1667ede28338"
  },
  {
   "cell_type": "markdown",
   "source": [
    "## Testing the model"
   ],
   "metadata": {
    "collapsed": false
   },
   "id": "cc53ab8018bba5ba"
  },
  {
   "cell_type": "code",
   "execution_count": null,
   "outputs": [],
   "source": [
    "y_pred, y_true = predict_with_model(model,\n",
    "                                    test_dataloader,\n",
    "                                    device,\n",
    "                                    use_sigmoid=True,\n",
    "                                    return_labels=True)"
   ],
   "metadata": {
    "collapsed": false
   },
   "id": "719c53b7ad11e58b"
  },
  {
   "cell_type": "code",
   "execution_count": null,
   "outputs": [],
   "source": [
    "metrics_score = calculate_metrics(y_true, y_pred)"
   ],
   "metadata": {
    "collapsed": false
   },
   "id": "eb56848fa9f35010"
  },
  {
   "cell_type": "code",
   "execution_count": null,
   "outputs": [],
   "source": [
    "print(f'Jaccard: {metrics_score[0]:1.4f}\\n'\n",
    "      f'F1: {metrics_score[1]:1.4f}\\n'\n",
    "      f'Recall: {metrics_score[2]:1.4f}\\n'\n",
    "      f'Precision: {metrics_score[3]:1.4f}\\n'\n",
    "      f'Accuracy: {metrics_score[4]:1.4f}\\n')\n",
    "\n",
    "print(f'Average of all: {sum(metrics_score) / len(metrics_score):1.3f}')"
   ],
   "metadata": {
    "collapsed": false
   },
   "id": "bb4c75ad40e4039f"
  },
  {
   "cell_type": "code",
   "execution_count": null,
   "outputs": [],
   "source": [
    "# for i, (x, y) in tqdm(enumerate(zip(X_test, y_test)), total=len(X_test)):\n",
    "#     name = x.split('\\\\')[-1].split('.')[0]\n",
    "#     \n",
    "#     image = cv2.imread(x, cv2.IMREAD_COLOR)\n",
    "#     mask = cv2.imread(y, cv2.IMREAD_GRAYSCALE)\n",
    "#     \n",
    "#     pred_y = np.squeeze(y_pred[i], axis=0)\n",
    "#     pred_y = pred_y > 0.5\n",
    "#     pred_y = np.array(pred_y, dtype=np.uint8)\n",
    "# \n",
    "#     ori_mask = mask_parse(mask)\n",
    "#     pred_y = mask_parse(pred_y)\n",
    "#     line = np.ones((pred_y.shape[0], 10, 3)) * 128\n",
    "#     \n",
    "#     cat_images = np.concatenate(\n",
    "#         [image, line, ori_mask, line, pred_y * 255],\n",
    "#         axis=1\n",
    "#     )\n",
    "# \n",
    "#     cv2.imwrite(f'./Data/Results-512x/{name}.png', cat_images)"
   ],
   "metadata": {
    "collapsed": false
   },
   "id": "48b23c29bbd6fa42"
  },
  {
   "cell_type": "code",
   "execution_count": null,
   "outputs": [],
   "source": [],
   "metadata": {
    "collapsed": false
   },
   "id": "76eff0c8fdfc4209"
  }
 ],
 "metadata": {
  "kernelspec": {
   "display_name": "Python 3",
   "language": "python",
   "name": "python3"
  },
  "language_info": {
   "codemirror_mode": {
    "name": "ipython",
    "version": 2
   },
   "file_extension": ".py",
   "mimetype": "text/x-python",
   "name": "python",
   "nbconvert_exporter": "python",
   "pygments_lexer": "ipython2",
   "version": "2.7.6"
  }
 },
 "nbformat": 4,
 "nbformat_minor": 5
}
